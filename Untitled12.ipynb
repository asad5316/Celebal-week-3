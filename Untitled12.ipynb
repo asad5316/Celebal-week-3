{
  "nbformat": 4,
  "nbformat_minor": 0,
  "metadata": {
    "colab": {
      "name": "Untitled12.ipynb",
      "provenance": [],
      "collapsed_sections": []
    },
    "kernelspec": {
      "name": "python3",
      "display_name": "Python 3"
    },
    "language_info": {
      "name": "python"
    }
  },
  "cells": [
    {
      "cell_type": "code",
      "execution_count": 3,
      "metadata": {
        "colab": {
          "base_uri": "https://localhost:8080/"
        },
        "id": "N2YBamPdvF5L",
        "outputId": "51763575-dce2-4bd5-b20c-531fee623f6f"
      },
      "outputs": [
        {
          "output_type": "stream",
          "name": "stdout",
          "text": [
            "1\n"
          ]
        }
      ],
      "source": [
        "list=[\"Asad\",\"Shaikh\"]\n",
        "print(list.index(\"Shaikh\"))"
      ]
    },
    {
      "cell_type": "markdown",
      "source": [
        "**Indexing in tuple**"
      ],
      "metadata": {
        "id": "Zu5sym8Tvsce"
      }
    },
    {
      "cell_type": "code",
      "source": [
        "tuple=(\"g\",\"o\",\"o\",\"g\",\"l\",\"e\")\n",
        "print(tuple.index(\"g\"))\n",
        "print(tuple.index(\"l\"))"
      ],
      "metadata": {
        "colab": {
          "base_uri": "https://localhost:8080/"
        },
        "id": "JfiHMjS2v4s_",
        "outputId": "de8cd478-fa95-4c03-d661-74539460cfed"
      },
      "execution_count": 5,
      "outputs": [
        {
          "output_type": "stream",
          "name": "stdout",
          "text": [
            "0\n",
            "4\n"
          ]
        }
      ]
    },
    {
      "cell_type": "markdown",
      "source": [
        "**Negative Indexing in List**"
      ],
      "metadata": {
        "id": "Ct1bpSQQ0S43"
      }
    },
    {
      "cell_type": "code",
      "source": [
        "data=[\"asad\",\"shaikh\",\"54\",\"IT\",\"Engineer\"]\n",
        "print(data[-3])\n",
        "print(data[-4])\n",
        "#starts from -1"
      ],
      "metadata": {
        "colab": {
          "base_uri": "https://localhost:8080/"
        },
        "id": "bfjjrk05wIJn",
        "outputId": "8ab34c48-42ab-4dbb-8a45-0a6dc0bfbefb"
      },
      "execution_count": 6,
      "outputs": [
        {
          "output_type": "stream",
          "name": "stdout",
          "text": [
            "54\n",
            "shaikh\n"
          ]
        }
      ]
    },
    {
      "cell_type": "markdown",
      "source": [
        "**Negative Indexing in Tuple**"
      ],
      "metadata": {
        "id": "NwMxu-VB0yJW"
      }
    },
    {
      "cell_type": "code",
      "source": [
        "data=[\"asad\",\"shaikh\",\"54\",\"IT\",\"Engineer\"]\n",
        "print(data[-2])"
      ],
      "metadata": {
        "colab": {
          "base_uri": "https://localhost:8080/"
        },
        "id": "bilt2OOV0hay",
        "outputId": "fb6e6095-60df-4790-9a49-e2516a2d3a56"
      },
      "execution_count": 7,
      "outputs": [
        {
          "output_type": "stream",
          "name": "stdout",
          "text": [
            "IT\n"
          ]
        }
      ]
    },
    {
      "cell_type": "markdown",
      "source": [
        "**Membership Test in List**"
      ],
      "metadata": {
        "id": "KADC79Px1nW_"
      }
    },
    {
      "cell_type": "code",
      "source": [
        "var= 9\n",
        "list=[1,2,3,4,5,6,7,8,9,10]\n",
        "print(var in list)        #in\n",
        "print(5 not in list)      #not in\n",
        "print(var not in list)    #not in"
      ],
      "metadata": {
        "colab": {
          "base_uri": "https://localhost:8080/"
        },
        "id": "_sQaOb7r0hYE",
        "outputId": "38afabfa-f2ac-42f9-e593-47eaa6d1129f"
      },
      "execution_count": 8,
      "outputs": [
        {
          "output_type": "stream",
          "name": "stdout",
          "text": [
            "True\n",
            "False\n",
            "False\n"
          ]
        }
      ]
    },
    {
      "cell_type": "markdown",
      "source": [
        "**Membership Test in Tuple**"
      ],
      "metadata": {
        "id": "6R9nMKr214O1"
      }
    },
    {
      "cell_type": "code",
      "source": [
        "tuple= (1,2,3,4,5,6,7,8,9,10)\n",
        "print(1 in tuple)       #in\n",
        "print(10 in tuple)        #in\n",
        "print(20 not in tuple)    #not in"
      ],
      "metadata": {
        "colab": {
          "base_uri": "https://localhost:8080/"
        },
        "id": "m1h_SDlY11cF",
        "outputId": "26c576e5-89a5-4e8b-d25b-1b0be7e1db67"
      },
      "execution_count": 9,
      "outputs": [
        {
          "output_type": "stream",
          "name": "stdout",
          "text": [
            "True\n",
            "True\n",
            "True\n"
          ]
        }
      ]
    },
    {
      "cell_type": "markdown",
      "source": [
        "**Membership Test in Set**"
      ],
      "metadata": {
        "id": "3JYR2Zx02kN8"
      }
    },
    {
      "cell_type": "code",
      "source": [
        "set={1,2,3,4,5,6,7,8,9,10}\n",
        "print(1 in set)         #in\n",
        "print(10 not in set)     #not in"
      ],
      "metadata": {
        "colab": {
          "base_uri": "https://localhost:8080/"
        },
        "id": "ubmiwVez2M0i",
        "outputId": "a500e239-8143-4fca-a82a-f5156974a9f2"
      },
      "execution_count": 11,
      "outputs": [
        {
          "output_type": "stream",
          "name": "stdout",
          "text": [
            "True\n",
            "False\n"
          ]
        }
      ]
    },
    {
      "cell_type": "markdown",
      "source": [
        "**Membership Test in Dictionary**"
      ],
      "metadata": {
        "id": "7JOvgD6N20AS"
      }
    },
    {
      "cell_type": "code",
      "source": [
        "d1={\"my\",\"name\",\"is\",\"asad\"}\n",
        "d2={\"how\",\"are\",\"You\"}\n",
        "\n",
        "print(\"my\" in d1)       #in\n",
        "print(\"are\" not in d2)  #not in"
      ],
      "metadata": {
        "colab": {
          "base_uri": "https://localhost:8080/"
        },
        "id": "HDMFTuJZ2s2R",
        "outputId": "333f6b93-1c2e-49d2-b4a8-808e802ec4dc"
      },
      "execution_count": 13,
      "outputs": [
        {
          "output_type": "stream",
          "name": "stdout",
          "text": [
            "True\n",
            "False\n"
          ]
        }
      ]
    },
    {
      "cell_type": "markdown",
      "source": [
        "**Iterating Loop in Tuple**"
      ],
      "metadata": {
        "id": "dunAj4xV4eAS"
      }
    },
    {
      "cell_type": "code",
      "source": [
        "tuple=(\"I \",\"am \",\"an \",\"Engineer\")\n",
        "\n",
        "for ele in tuple:       #for Loop\n",
        "  print(ele,end=\"\")\n",
        "  #end=\"\" used to print output in one line"
      ],
      "metadata": {
        "colab": {
          "base_uri": "https://localhost:8080/"
        },
        "id": "2NsTR1x-3btw",
        "outputId": "e80661ee-3dc9-4953-e464-02ddb88cf72c"
      },
      "execution_count": 17,
      "outputs": [
        {
          "output_type": "stream",
          "name": "stdout",
          "text": [
            "I am an Engineer"
          ]
        }
      ]
    },
    {
      "cell_type": "markdown",
      "source": [
        "**Iterating Loop in Set**"
      ],
      "metadata": {
        "id": "DH0M-sUe6Kts"
      }
    },
    {
      "cell_type": "code",
      "source": [
        "set = {\"Hi\", \"hello\", \"bye\"}\n",
        "\n",
        "for x in set:\n",
        "  print(x)"
      ],
      "metadata": {
        "colab": {
          "base_uri": "https://localhost:8080/"
        },
        "id": "rcp_TWJR4xfK",
        "outputId": "b5a3db41-6eb9-460c-84ca-397d6f560e49"
      },
      "execution_count": 18,
      "outputs": [
        {
          "output_type": "stream",
          "name": "stdout",
          "text": [
            "hello\n",
            "bye\n",
            "Hi\n"
          ]
        }
      ]
    },
    {
      "cell_type": "markdown",
      "source": [
        "**Iterating Loop in Dictionary**"
      ],
      "metadata": {
        "id": "q6xMxfXw6bRl"
      }
    },
    {
      "cell_type": "code",
      "source": [
        "dict = {\"Good\":\"Morning\",\n",
        "        \"Sleepy\":\"Day\",\n",
        "        \"Sweet\":\"Evening\"}\n",
        "for ele in dict:\n",
        "  print(ele)"
      ],
      "metadata": {
        "colab": {
          "base_uri": "https://localhost:8080/"
        },
        "id": "XRlt_a2i6SVJ",
        "outputId": "6073e51e-8bc1-4b84-83fc-fe8888417cd7"
      },
      "execution_count": 19,
      "outputs": [
        {
          "output_type": "stream",
          "name": "stdout",
          "text": [
            "Good\n",
            "Sleepy\n",
            "Sweet\n"
          ]
        }
      ]
    },
    {
      "cell_type": "markdown",
      "source": [
        "**Iterating Loop in List**"
      ],
      "metadata": {
        "id": "wy9S3Gn86lu2"
      }
    },
    {
      "cell_type": "code",
      "source": [
        "list=[1,2,3,4,5,6,7,8,9,10]\n",
        "\n",
        "for ele in list:\n",
        "  print(ele)"
      ],
      "metadata": {
        "colab": {
          "base_uri": "https://localhost:8080/"
        },
        "id": "M1f2LdUI6iAj",
        "outputId": "869dbb24-773d-4bcc-cfb1-94929d9cc1c6"
      },
      "execution_count": 20,
      "outputs": [
        {
          "output_type": "stream",
          "name": "stdout",
          "text": [
            "1\n",
            "2\n",
            "3\n",
            "4\n",
            "5\n",
            "6\n",
            "7\n",
            "8\n",
            "9\n",
            "10\n"
          ]
        }
      ]
    },
    {
      "cell_type": "code",
      "source": [
        ""
      ],
      "metadata": {
        "id": "ZW4PORXi60WB"
      },
      "execution_count": null,
      "outputs": []
    }
  ]
}